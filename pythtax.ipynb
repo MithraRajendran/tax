{
  "nbformat": 4,
  "nbformat_minor": 0,
  "metadata": {
    "colab": {
      "name": "pythtax.ipynb",
      "provenance": []
    },
    "kernelspec": {
      "name": "python3",
      "display_name": "Python 3"
    },
    "language_info": {
      "name": "python"
    }
  },
  "cells": [
    {
      "cell_type": "code",
      "execution_count": 2,
      "metadata": {
        "colab": {
          "base_uri": "https://localhost:8080/"
        },
        "id": "sZEShm2OZu3C",
        "outputId": "47345dbc-ca5f-4485-f8a5-81da470c786c"
      },
      "outputs": [
        {
          "name": "stdout",
          "output_type": "stream",
          "text": [
            "enter the amt1000\n"
          ]
        }
      ],
      "source": [
        "P=int(input(\"enter the amt\"))"
      ]
    },
    {
      "cell_type": "code",
      "source": [
        "N=int(input(\"enter no. of yrs\"))"
      ],
      "metadata": {
        "colab": {
          "base_uri": "https://localhost:8080/"
        },
        "id": "Iveb_4X3aBcZ",
        "outputId": "7d28a487-abba-4be3-8a79-6f031a6779f9"
      },
      "execution_count": 3,
      "outputs": [
        {
          "name": "stdout",
          "output_type": "stream",
          "text": [
            "enter no. of yrs5\n"
          ]
        }
      ]
    },
    {
      "cell_type": "code",
      "source": [
        "R=int(input(\"enter rate of int\"))/100"
      ],
      "metadata": {
        "colab": {
          "base_uri": "https://localhost:8080/"
        },
        "id": "oPTFElggarcu",
        "outputId": "90768404-a580-479f-e6af-ad74343bbfdb"
      },
      "execution_count": 5,
      "outputs": [
        {
          "name": "stdout",
          "output_type": "stream",
          "text": [
            "enter rate of int5\n"
          ]
        }
      ]
    },
    {
      "cell_type": "code",
      "source": [
        "I=P*N*R"
      ],
      "metadata": {
        "id": "MtqQmu2Ga3RV"
      },
      "execution_count": 6,
      "outputs": []
    },
    {
      "cell_type": "code",
      "source": [
        "print(I)"
      ],
      "metadata": {
        "colab": {
          "base_uri": "https://localhost:8080/"
        },
        "id": "-V59pIw3bCBs",
        "outputId": "a218b71f-a6b0-401d-c33d-0267780ea3fd"
      },
      "execution_count": 8,
      "outputs": [
        {
          "output_type": "stream",
          "name": "stdout",
          "text": [
            "250.0\n"
          ]
        }
      ]
    },
    {
      "cell_type": "code",
      "source": [
        "x=int(input(\"enter your salary\"))"
      ],
      "metadata": {
        "colab": {
          "base_uri": "https://localhost:8080/"
        },
        "id": "DI4Q4u3sbTPE",
        "outputId": "c4579368-abbf-4172-c5aa-242b229959b6"
      },
      "execution_count": 11,
      "outputs": [
        {
          "name": "stdout",
          "output_type": "stream",
          "text": [
            "enter your salary50000\n"
          ]
        }
      ]
    },
    {
      "cell_type": "code",
      "source": [
        "if x > 100000 :\n",
        "  print(\"you are taxable\")\n",
        "  print=10%(100000)\n",
        "if x < 100000 :\n",
        "  print(\"you are not taxable\")"
      ],
      "metadata": {
        "colab": {
          "base_uri": "https://localhost:8080/"
        },
        "id": "zpd7DksUbg8V",
        "outputId": "72bc7145-26ec-4393-899e-e0cb68d4c494"
      },
      "execution_count": 14,
      "outputs": [
        {
          "output_type": "stream",
          "name": "stdout",
          "text": [
            "you are not taxable\n"
          ]
        }
      ]
    },
    {
      "cell_type": "code",
      "source": [
        "\n",
        "\n",
        "\n",
        "\n",
        "if salary > 250000 :\n",
        "    print(\"you are taxable\")\n",
        "    t=sal-250000\n",
        "    tax=t*10/100\n",
        "    print(\"tax\", tax)\n",
        "else:\n",
        "  print(\"you are free from tax\")"
      ],
      "metadata": {
        "id": "BaZGN4nUcLGc"
      },
      "execution_count": null,
      "outputs": []
    },
    {
      "cell_type": "code",
      "source": [
        "if x < 250000 :\n",
        "  print(\".........\")\n",
        "  if"
      ],
      "metadata": {
        "id": "ibKy9VpagnCZ"
      },
      "execution_count": null,
      "outputs": []
    }
  ]
}